{
 "cells": [
  {
   "cell_type": "code",
   "execution_count": 40,
   "id": "2a356ad9",
   "metadata": {},
   "outputs": [],
   "source": [
    "import pandas as pd\n",
    "import re\n",
    "import numpy as np\n",
    "import math"
   ]
  },
  {
   "cell_type": "code",
   "execution_count": 2,
   "id": "d345ce07",
   "metadata": {},
   "outputs": [],
   "source": [
    "input_data = pd.read_csv(\"data/test_input.csv\", sep=\",\")\n",
    "\n",
    "column_names = input_data.columns.tolist()\n",
    "column_names[0] = \"File\"\n",
    "input_data.columns = column_names"
   ]
  },
  {
   "cell_type": "code",
   "execution_count": 3,
   "id": "a11520f4",
   "metadata": {},
   "outputs": [],
   "source": [
    "format_header = []\n",
    "variables = \"\"\n",
    "for x in input_data.columns.tolist():\n",
    "    if \"/\" in x:\n",
    "        m = re.search(r\"([A-Za-z0-9]+[+-]){2,5} \\|\", x)\n",
    "        column_val = m.group(0)\n",
    "        format_header.append(column_val.replace(r\" |\", \"\"))\n",
    "        variables = column_val.replace(r\" |\", \"\")\n",
    "    else:\n",
    "        format_header.append(x)\n",
    "input_data.columns = format_header"
   ]
  },
  {
   "cell_type": "code",
   "execution_count": 4,
   "id": "5243cbdb",
   "metadata": {},
   "outputs": [
    {
     "data": {
      "text/plain": [
       "<bound method NDFrame.head of                        File    TUBE NAME    Group  CD107a+IFNg+MIP1b+TNFa+  \\\n",
       "0  T244_CD89 X-link_C03.fcs  CD89 X-link    Xlink                        0   \n",
       "1  T244_Neg Control_C01.fcs  Neg Control  Control                        0   \n",
       "2   W72_CD89 X-link_B03.fcs  CD89 X-link    Xlink                        0   \n",
       "3   W72_Neg Control_B01.fcs  Neg Control  Control                        0   \n",
       "4   V07_CD89 X-link_A03.fcs  CD89 X-link    Xlink                        0   \n",
       "5   V07_Neg Control_A01.fcs  Neg Control  Control                        0   \n",
       "\n",
       "   CD107a+IFNg+MIP1b+TNFa-  CD107a+IFNg+MIP1b-TNFa+  CD107a+IFNg+MIP1b-TNFa-  \\\n",
       "0                        0                        0                     0.00   \n",
       "1                        0                        0                     0.00   \n",
       "2                        0                        0                     0.00   \n",
       "3                        0                        0                     0.38   \n",
       "4                        0                        0                     0.00   \n",
       "5                        0                        0                     0.20   \n",
       "\n",
       "   CD107a+IFNg-MIP1b+TNFa+  CD107a+IFNg-MIP1b+TNFa-  CD107a+IFNg-MIP1b-TNFa+  \\\n",
       "0                        0                        0                        0   \n",
       "1                        0                        0                        0   \n",
       "2                        0                        0                        0   \n",
       "3                        0                        0                        0   \n",
       "4                        0                        0                        0   \n",
       "5                        0                        0                        0   \n",
       "\n",
       "   CD107a+IFNg-MIP1b-TNFa-  CD107a-IFNg+MIP1b+TNFa+  CD107a-IFNg+MIP1b+TNFa-  \\\n",
       "0                     0.00                        0                        0   \n",
       "1                     2.51                        0                        0   \n",
       "2                     0.56                        0                        0   \n",
       "3                     3.38                        0                        0   \n",
       "4                     0.34                        0                        0   \n",
       "5                     0.57                        0                        0   \n",
       "\n",
       "   CD107a-IFNg+MIP1b-TNFa+  CD107a-IFNg+MIP1b-TNFa-  CD107a-IFNg-MIP1b+TNFa+  \\\n",
       "0                        0                     1.03                        0   \n",
       "1                        0                     0.00                        0   \n",
       "2                        0                     0.00                        0   \n",
       "3                        0                     0.00                        0   \n",
       "4                        0                     0.27                        0   \n",
       "5                        0                     0.12                        0   \n",
       "\n",
       "   CD107a-IFNg-MIP1b+TNFa-  CD107a-IFNg-MIP1b-TNFa+  \n",
       "0                        0                    0.000  \n",
       "1                        0                    0.000  \n",
       "2                        0                    0.000  \n",
       "3                        0                    0.000  \n",
       "4                        0                    0.068  \n",
       "5                        0                    0.040  >"
      ]
     },
     "execution_count": 4,
     "metadata": {},
     "output_type": "execute_result"
    }
   ],
   "source": [
    "input_data = input_data.iloc[:,:-1]\n",
    "input_data.head"
   ]
  },
  {
   "cell_type": "code",
   "execution_count": 17,
   "id": "d577bec2",
   "metadata": {},
   "outputs": [
    {
     "data": {
      "text/plain": [
       "File                       T244_Neg Control_C01.fcs\n",
       "TUBE NAME                               Neg Control\n",
       "Group                                       Control\n",
       "CD107a+IFNg+MIP1b+TNFa+                           0\n",
       "CD107a+IFNg+MIP1b+TNFa-                           0\n",
       "CD107a+IFNg+MIP1b-TNFa+                           0\n",
       "CD107a+IFNg+MIP1b-TNFa-                         0.0\n",
       "CD107a+IFNg-MIP1b+TNFa+                           0\n",
       "CD107a+IFNg-MIP1b+TNFa-                           0\n",
       "CD107a+IFNg-MIP1b-TNFa+                           0\n",
       "CD107a+IFNg-MIP1b-TNFa-                        2.51\n",
       "CD107a-IFNg+MIP1b+TNFa+                           0\n",
       "CD107a-IFNg+MIP1b+TNFa-                           0\n",
       "CD107a-IFNg+MIP1b-TNFa+                           0\n",
       "CD107a-IFNg+MIP1b-TNFa-                         0.0\n",
       "CD107a-IFNg-MIP1b+TNFa+                           0\n",
       "CD107a-IFNg-MIP1b+TNFa-                           0\n",
       "CD107a-IFNg-MIP1b-TNFa+                         0.0\n",
       "Name: 1, dtype: object"
      ]
     },
     "execution_count": 17,
     "metadata": {},
     "output_type": "execute_result"
    }
   ],
   "source": [
    "row_one = input_data.loc[1]\n",
    "row_one"
   ]
  },
  {
   "cell_type": "code",
   "execution_count": 59,
   "id": "b1f4ad1f",
   "metadata": {},
   "outputs": [
    {
     "name": "stdout",
     "output_type": "stream",
     "text": [
      "                        File    TUBE NAME    Group CD107a IFNg MIP1b TNFa  \\\n",
      "3   T244_CD89 X-link_C03.fcs  CD89 X-link    Xlink      +    +     +    +   \n",
      "4   T244_CD89 X-link_C03.fcs  CD89 X-link    Xlink      +    +     +    -   \n",
      "5   T244_CD89 X-link_C03.fcs  CD89 X-link    Xlink      +    +     -    +   \n",
      "6   T244_CD89 X-link_C03.fcs  CD89 X-link    Xlink      +    +     -    -   \n",
      "7   T244_CD89 X-link_C03.fcs  CD89 X-link    Xlink      +    -     +    +   \n",
      "..                       ...          ...      ...    ...  ...   ...  ...   \n",
      "13   V07_Neg Control_A01.fcs  Neg Control  Control      -    +     -    +   \n",
      "14   V07_Neg Control_A01.fcs  Neg Control  Control      -    +     -    -   \n",
      "15   V07_Neg Control_A01.fcs  Neg Control  Control      -    -     +    +   \n",
      "16   V07_Neg Control_A01.fcs  Neg Control  Control      -    -     +    -   \n",
      "17   V07_Neg Control_A01.fcs  Neg Control  Control      -    -     -    +   \n",
      "\n",
      "    value  \n",
      "3    0.00  \n",
      "4    0.00  \n",
      "5    0.00  \n",
      "6    0.00  \n",
      "7    0.00  \n",
      "..    ...  \n",
      "13   0.00  \n",
      "14   0.12  \n",
      "15   0.00  \n",
      "16   0.00  \n",
      "17   0.04  \n",
      "\n",
      "[90 rows x 8 columns]\n"
     ]
    }
   ],
   "source": [
    "final_df = pd.DataFrame()\n",
    "for j in range(0, len(input_data.index)):\n",
    "    row_one = input_data.loc[j]\n",
    "    output_dict = {}\n",
    "    output_df = pd.DataFrame()\n",
    "    for i in range(0, len(row_one)):\n",
    "        if \"+\" in row_one.index[i] or \"-\" in row_one.index[i]:\n",
    "            searches = re.findall(\"[A-Za-z0-9]+[+-]\", row_one.index[i])\n",
    "            responses = [x[:-1] for x in searches]\n",
    "            condition = [x[-1] for x in searches]\n",
    "            value = row_one.values[i]\n",
    "            output_dict.update( dict( zip( responses, condition ) ) )\n",
    "            for resp, item in zip(responses, condition):\n",
    "                output_df.at[i, resp] = item\n",
    "            output_dict['value'] = value\n",
    "            output_df.at[i, 'value'] = value\n",
    "        else:\n",
    "            output_df.at[i, row_one.index[i]] = row_one.values[i]\n",
    "    output_df.iloc[:, 0] = [x for x in output_df.iloc[:, 0] if pd.notnull(x)] * len(output_df.index)\n",
    "    output_df.iloc[:, 1] = [x for x in output_df.iloc[:, 1] if pd.notnull(x)] * len(output_df.index)\n",
    "    output_df.iloc[:, 2] = [x for x in output_df.iloc[:, 2] if pd.notnull(x)] * len(output_df.index)\n",
    "    output_df = output_df.dropna()\n",
    "    final_df = pd.concat([final_df, output_df])\n",
    "print(final_df)   \n",
    "        \n",
    "final_df.to_csv(\"~/Desktop/output.txt\", sep=\"\\t\", index=False)\n",
    "        "
   ]
  },
  {
   "cell_type": "code",
   "execution_count": null,
   "id": "777d8e74",
   "metadata": {},
   "outputs": [],
   "source": [
    "        searches = re.findall(\"[A-Za-z0-9]+[+-]\", row_one.index[i])\n",
    "        responses = [x[:-1] for x in searches]\n",
    "        condition = [x[-1] for x in searches]\n",
    "        value = row_one.values[i]\n",
    "        output_dict.update( dict( zip( responses, condition ) ) )\n",
    "        output_dict['value'] = value"
   ]
  }
 ],
 "metadata": {
  "kernelspec": {
   "display_name": "Python 3",
   "language": "python",
   "name": "python3"
  },
  "language_info": {
   "codemirror_mode": {
    "name": "ipython",
    "version": 3
   },
   "file_extension": ".py",
   "mimetype": "text/x-python",
   "name": "python",
   "nbconvert_exporter": "python",
   "pygments_lexer": "ipython3",
   "version": "3.8.8"
  }
 },
 "nbformat": 4,
 "nbformat_minor": 5
}
